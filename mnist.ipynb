{
  "nbformat": 4,
  "nbformat_minor": 0,
  "metadata": {
    "colab": {
      "name": "mnist.ipynb",
      "provenance": [],
      "collapsed_sections": []
    },
    "kernelspec": {
      "name": "python3",
      "display_name": "Python 3"
    },
    "accelerator": "GPU"
  },
  "cells": [
    {
      "cell_type": "markdown",
      "metadata": {
        "id": "NA_JUJxCtXNV"
      },
      "source": [
        "Import libraries"
      ]
    },
    {
      "cell_type": "code",
      "metadata": {
        "id": "oXoBzQ6hs3ou"
      },
      "source": [
        "import tensorflow as tf\n",
        "import numpy as np\n",
        "import matplotlib.pyplot as plt"
      ],
      "execution_count": 1,
      "outputs": []
    },
    {
      "cell_type": "markdown",
      "metadata": {
        "id": "tS7dJ_fvwXID"
      },
      "source": [
        "Define Hyperparameters"
      ]
    },
    {
      "cell_type": "code",
      "metadata": {
        "id": "NJFTGg9cwS2u"
      },
      "source": [
        "BATCH_SIZE = 32\n",
        "EPOCHS = 10\n",
        "VALIDATION_SPLIT = 0.2\n",
        "THRESHOLD = 0.95"
      ],
      "execution_count": 2,
      "outputs": []
    },
    {
      "cell_type": "markdown",
      "metadata": {
        "id": "2um_jYq9tf8R"
      },
      "source": [
        "Fetch and preprocess MNIST data"
      ]
    },
    {
      "cell_type": "code",
      "metadata": {
        "colab": {
          "base_uri": "https://localhost:8080/"
        },
        "id": "oYmieCkbtTp1",
        "outputId": "9daf0a6c-7d46-43d1-b4b9-7f1ef26c180e"
      },
      "source": [
        "(x_train, y_train), (x_test, y_test) = tf.keras.datasets.mnist.load_data()\n",
        "\n",
        "# Rescale the images from [0,255] to the [0.0,1.0] range.\n",
        "x_train, x_test = x_train[..., np.newaxis]/255.0, x_test[..., np.newaxis]/255.0\n",
        "\n",
        "print(\"Number of original training examples:\", len(x_train))\n",
        "print(\"Number of original test examples:\", len(x_test))\n",
        "\n",
        "labeled_index = np.random.choice(x_train.shape[0], int(x_train.shape[0] * 0.1), replace=False)\n",
        "labeled_mask = np.zeros(len(x_train), dtype=bool)\n",
        "labeled_mask[labeled_index] = 1\n",
        "labeled_x_train, labeled_y_train = x_train[labeled_mask], y_train[labeled_mask]\n",
        "unlabeled_x_train, unlabeled_y_train = x_train[~labeled_mask], y_train[~labeled_mask]\n",
        "\n",
        "print(\"Number of labeled training examples:\", len(labeled_x_train))\n",
        "print(\"Number of unlabeled training examples:\", len(unlabeled_x_train))"
      ],
      "execution_count": 10,
      "outputs": [
        {
          "output_type": "stream",
          "text": [
            "Number of original training examples: 60000\n",
            "Number of original test examples: 10000\n",
            "Number of labeled training examples: 6000\n",
            "Number of unlabeled training examples: 54000\n"
          ],
          "name": "stdout"
        }
      ]
    },
    {
      "cell_type": "markdown",
      "metadata": {
        "id": "g3qD4uo6uXJq"
      },
      "source": [
        "Define model"
      ]
    },
    {
      "cell_type": "code",
      "metadata": {
        "id": "uJhY6V1QuP2Z"
      },
      "source": [
        "supervised_model = tf.keras.models.Sequential([\n",
        "  tf.keras.layers.Conv2D(32, (3, 3), activation='relu', input_shape=(28, 28, 1)),\n",
        "  tf.keras.layers.MaxPooling2D((2, 2)),\n",
        "  tf.keras.layers.Conv2D(32, (3, 3), activation='relu'),\n",
        "  tf.keras.layers.MaxPooling2D((2, 2)),\n",
        "  tf.keras.layers.Flatten(),\n",
        "  tf.keras.layers.Dense(32,activation='relu'),\n",
        "  tf.keras.layers.Dense(10,activation='softmax')\n",
        "])\n",
        "\n",
        "supervised_model.compile(\n",
        "    optimizer=tf.keras.optimizers.Adam(0.001),\n",
        "    loss=tf.keras.losses.SparseCategoricalCrossentropy(),\n",
        "    metrics=[tf.keras.metrics.SparseCategoricalAccuracy()],\n",
        ")\n",
        "\n",
        "semi_supervised_model = tf.keras.models.Sequential([\n",
        "  tf.keras.layers.Conv2D(32, (3, 3), activation='relu', input_shape=(28, 28, 1)),\n",
        "  tf.keras.layers.MaxPooling2D((2, 2)),\n",
        "  tf.keras.layers.Conv2D(32, (3, 3), activation='relu'),\n",
        "  tf.keras.layers.MaxPooling2D((2, 2)),\n",
        "  tf.keras.layers.Flatten(),\n",
        "  tf.keras.layers.Dense(32,activation='relu'),\n",
        "  tf.keras.layers.Dense(10,activation='softmax')\n",
        "])\n",
        "\n",
        "semi_supervised_model.compile(\n",
        "    optimizer=tf.keras.optimizers.Adam(0.001),\n",
        "    loss=tf.keras.losses.SparseCategoricalCrossentropy(),\n",
        "    metrics=[tf.keras.metrics.SparseCategoricalAccuracy()],\n",
        ")\n",
        "\n",
        "semi_supervised_model.save_weights(\"./init\")"
      ],
      "execution_count": 22,
      "outputs": []
    },
    {
      "cell_type": "markdown",
      "metadata": {
        "id": "m63YfG7mXmOc"
      },
      "source": [
        "Supervised (Baseline)"
      ]
    },
    {
      "cell_type": "code",
      "metadata": {
        "id": "P8MWkfkRveNO",
        "colab": {
          "base_uri": "https://localhost:8080/"
        },
        "outputId": "2787107f-cb1a-43e7-b77b-f9959eb0c5c9"
      },
      "source": [
        "best_loss = 1000\n",
        "for epoch in range(EPOCHS):\n",
        "  history = supervised_model.fit(labeled_x_train, labeled_y_train, validation_split=VALIDATION_SPLIT)\n",
        "  loss = history.history['val_loss'][0]\n",
        "  if loss < best_loss:\n",
        "    supervised_model.save_weights(\"./checkpoint\")\n",
        "    print(\"Saving checkpoint\")\n",
        "    best_loss = loss\n",
        "supervised_model.load_weights(\"./checkpoint\")\n",
        "hist = supervised_model.evaluate(x_test, y_test)\n",
        "supervised_loss, supervised_accuracy = hist[0], hist[1]"
      ],
      "execution_count": 23,
      "outputs": [
        {
          "output_type": "stream",
          "text": [
            "150/150 [==============================] - 1s 4ms/step - loss: 1.3851 - sparse_categorical_accuracy: 0.5530 - val_loss: 0.2737 - val_sparse_categorical_accuracy: 0.9050\n",
            "Saving checkpoint\n",
            "150/150 [==============================] - 0s 3ms/step - loss: 0.2003 - sparse_categorical_accuracy: 0.9454 - val_loss: 0.1417 - val_sparse_categorical_accuracy: 0.9617\n",
            "Saving checkpoint\n",
            "150/150 [==============================] - 0s 3ms/step - loss: 0.1382 - sparse_categorical_accuracy: 0.9575 - val_loss: 0.1300 - val_sparse_categorical_accuracy: 0.9633\n",
            "Saving checkpoint\n",
            "150/150 [==============================] - 0s 3ms/step - loss: 0.0997 - sparse_categorical_accuracy: 0.9690 - val_loss: 0.0997 - val_sparse_categorical_accuracy: 0.9692\n",
            "Saving checkpoint\n",
            "150/150 [==============================] - 0s 3ms/step - loss: 0.0754 - sparse_categorical_accuracy: 0.9754 - val_loss: 0.1189 - val_sparse_categorical_accuracy: 0.9625\n",
            "150/150 [==============================] - 0s 3ms/step - loss: 0.0626 - sparse_categorical_accuracy: 0.9796 - val_loss: 0.1175 - val_sparse_categorical_accuracy: 0.9642\n",
            "150/150 [==============================] - 0s 3ms/step - loss: 0.0421 - sparse_categorical_accuracy: 0.9877 - val_loss: 0.0943 - val_sparse_categorical_accuracy: 0.9733\n",
            "Saving checkpoint\n",
            "150/150 [==============================] - 1s 4ms/step - loss: 0.0358 - sparse_categorical_accuracy: 0.9881 - val_loss: 0.1233 - val_sparse_categorical_accuracy: 0.9608\n",
            "150/150 [==============================] - 0s 3ms/step - loss: 0.0372 - sparse_categorical_accuracy: 0.9883 - val_loss: 0.0988 - val_sparse_categorical_accuracy: 0.9675\n",
            "150/150 [==============================] - 0s 3ms/step - loss: 0.0215 - sparse_categorical_accuracy: 0.9935 - val_loss: 0.0650 - val_sparse_categorical_accuracy: 0.9800\n",
            "Saving checkpoint\n",
            "313/313 [==============================] - 1s 2ms/step - loss: 0.0883 - sparse_categorical_accuracy: 0.9743\n"
          ],
          "name": "stdout"
        }
      ]
    },
    {
      "cell_type": "markdown",
      "metadata": {
        "id": "OPq1KPuYXvFl"
      },
      "source": [
        "Semi-Supervised"
      ]
    },
    {
      "cell_type": "code",
      "metadata": {
        "colab": {
          "base_uri": "https://localhost:8080/"
        },
        "id": "8u8MchTLXpGl",
        "outputId": "a4251985-4882-4cf2-b46f-18ce54a80c6f"
      },
      "source": [
        "semi_supervised_loss = []\n",
        "semi_supervised_accuracy = []\n",
        "while True:\n",
        "  print(len(labeled_x_train))\n",
        "  best_loss = 1000\n",
        "  semi_supervised_model.load_weights(\"./init\")\n",
        "  shuffler = np.random.permutation(len(labeled_y_train))\n",
        "  labeled_x_train, labeled_y_train = labeled_x_train[shuffler], labeled_y_train[shuffler]\n",
        "  for epoch in range(EPOCHS):\n",
        "    semi_supervised_model.evaluate(x_test,y_test)\n",
        "    history = semi_supervised_model.fit(labeled_x_train, labeled_y_train, validation_split=VALIDATION_SPLIT)\n",
        "    loss = history.history['val_loss'][0]\n",
        "    if loss < best_loss:\n",
        "      semi_supervised_model.save_weights(\"./checkpoint\")\n",
        "      print(\"Saving checkpoint\")\n",
        "      best_loss = loss\n",
        "  semi_supervised_model.load_weights(\"./checkpoint\")\n",
        "  prediction = semi_supervised_model.predict(unlabeled_x_train)\n",
        "  mask = np.amax(prediction, axis=1) > THRESHOLD\n",
        "  new_x_train, new_y_train = unlabeled_x_train[mask], np.argmax(prediction[mask], axis=1)\n",
        "  # original_y_train = unlabeled_y_train[mask]\n",
        "  # prediction = prediction[mask]\n",
        "  # print(\"----\")\n",
        "  # print(np.sum(mask))\n",
        "  # res = np.equal(new_y_train, original_y_train)\n",
        "  # print(np.sum(res))\n",
        "  # false_labeled_x, false_labeled_y, original_y = new_x_train[~res], new_y_train[~res], original_y_train[~res]\n",
        "  # prediction = prediction[~res]\n",
        "  # plt.figure(figsize=(10, 10))\n",
        "  # for i in range(9):\n",
        "  #   print(prediction[i])\n",
        "  #   ax = plt.subplot(3, 3, i + 1)\n",
        "  #   plt.imshow(tf.squeeze(false_labeled_x[i]))\n",
        "  #   plt.title(\"should be {} but is {}\".format(original_y[i], false_labeled_y[i]))\n",
        "  #   plt.axis(\"off\")\n",
        "  # print(\"----\")\n",
        "  labeled_x_train, labeled_y_train = np.vstack((labeled_x_train, new_x_train)), np.concatenate((labeled_y_train, new_y_train))\n",
        "  unlabeled_x_train = unlabeled_x_train[~mask]\n",
        "  unlabeled_y_train = unlabeled_y_train[~mask]\n",
        "  hist = semi_supervised_model.evaluate(x_test,y_test)\n",
        "  semi_supervised_loss.append(hist[0])\n",
        "  semi_supervised_accuracy.append(hist[1])\n",
        "  if np.sum(mask) < 20:\n",
        "    break\n"
      ],
      "execution_count": 6,
      "outputs": [
        {
          "output_type": "stream",
          "text": [
            "6000\n",
            "313/313 [==============================] - 1s 2ms/step - loss: 2.3007 - sparse_categorical_accuracy: 0.1139\n",
            "150/150 [==============================] - 1s 4ms/step - loss: 0.7661 - sparse_categorical_accuracy: 0.7752 - val_loss: 0.3077 - val_sparse_categorical_accuracy: 0.9092\n",
            "Saving checkpoint\n",
            "313/313 [==============================] - 1s 2ms/step - loss: 0.2873 - sparse_categorical_accuracy: 0.9103\n",
            "150/150 [==============================] - 0s 3ms/step - loss: 0.2127 - sparse_categorical_accuracy: 0.9340 - val_loss: 0.1833 - val_sparse_categorical_accuracy: 0.9458\n",
            "Saving checkpoint\n",
            "313/313 [==============================] - 1s 2ms/step - loss: 0.1667 - sparse_categorical_accuracy: 0.9492\n",
            "150/150 [==============================] - 1s 3ms/step - loss: 0.1436 - sparse_categorical_accuracy: 0.9542 - val_loss: 0.1493 - val_sparse_categorical_accuracy: 0.9575\n",
            "Saving checkpoint\n",
            "313/313 [==============================] - 1s 2ms/step - loss: 0.1305 - sparse_categorical_accuracy: 0.9603\n",
            "150/150 [==============================] - 0s 3ms/step - loss: 0.1075 - sparse_categorical_accuracy: 0.9652 - val_loss: 0.1494 - val_sparse_categorical_accuracy: 0.9550\n",
            "313/313 [==============================] - 1s 2ms/step - loss: 0.1248 - sparse_categorical_accuracy: 0.9590\n",
            "150/150 [==============================] - 0s 3ms/step - loss: 0.0859 - sparse_categorical_accuracy: 0.9733 - val_loss: 0.1239 - val_sparse_categorical_accuracy: 0.9650\n",
            "Saving checkpoint\n",
            "313/313 [==============================] - 1s 2ms/step - loss: 0.1026 - sparse_categorical_accuracy: 0.9686\n",
            "150/150 [==============================] - 0s 3ms/step - loss: 0.0611 - sparse_categorical_accuracy: 0.9810 - val_loss: 0.1220 - val_sparse_categorical_accuracy: 0.9667\n",
            "Saving checkpoint\n",
            "313/313 [==============================] - 1s 2ms/step - loss: 0.0949 - sparse_categorical_accuracy: 0.9713\n",
            "150/150 [==============================] - 0s 3ms/step - loss: 0.0496 - sparse_categorical_accuracy: 0.9844 - val_loss: 0.1226 - val_sparse_categorical_accuracy: 0.9667\n",
            "313/313 [==============================] - 1s 2ms/step - loss: 0.0936 - sparse_categorical_accuracy: 0.9716\n",
            "150/150 [==============================] - 1s 3ms/step - loss: 0.0456 - sparse_categorical_accuracy: 0.9850 - val_loss: 0.1202 - val_sparse_categorical_accuracy: 0.9650\n",
            "Saving checkpoint\n",
            "313/313 [==============================] - 1s 2ms/step - loss: 0.1103 - sparse_categorical_accuracy: 0.9666\n",
            "150/150 [==============================] - 0s 3ms/step - loss: 0.0335 - sparse_categorical_accuracy: 0.9900 - val_loss: 0.1186 - val_sparse_categorical_accuracy: 0.9700\n",
            "Saving checkpoint\n",
            "313/313 [==============================] - 1s 2ms/step - loss: 0.0880 - sparse_categorical_accuracy: 0.9741\n",
            "150/150 [==============================] - 0s 3ms/step - loss: 0.0289 - sparse_categorical_accuracy: 0.9912 - val_loss: 0.1282 - val_sparse_categorical_accuracy: 0.9725\n",
            "313/313 [==============================] - 1s 2ms/step - loss: 0.0880 - sparse_categorical_accuracy: 0.9741\n",
            "54862\n",
            "313/313 [==============================] - 1s 2ms/step - loss: 2.3027 - sparse_categorical_accuracy: 0.1114\n",
            "1372/1372 [==============================] - 5s 4ms/step - loss: 0.1283 - sparse_categorical_accuracy: 0.9599 - val_loss: 0.0330 - val_sparse_categorical_accuracy: 0.9915\n",
            "Saving checkpoint\n",
            "313/313 [==============================] - 1s 2ms/step - loss: 0.1277 - sparse_categorical_accuracy: 0.9634\n",
            "1372/1372 [==============================] - 5s 3ms/step - loss: 0.0220 - sparse_categorical_accuracy: 0.9936 - val_loss: 0.0248 - val_sparse_categorical_accuracy: 0.9923\n",
            "Saving checkpoint\n",
            "313/313 [==============================] - 1s 2ms/step - loss: 0.1185 - sparse_categorical_accuracy: 0.9683\n",
            "1372/1372 [==============================] - 5s 3ms/step - loss: 0.0153 - sparse_categorical_accuracy: 0.9955 - val_loss: 0.0300 - val_sparse_categorical_accuracy: 0.9912\n",
            "313/313 [==============================] - 1s 2ms/step - loss: 0.1291 - sparse_categorical_accuracy: 0.9697\n",
            "1372/1372 [==============================] - 5s 4ms/step - loss: 0.0114 - sparse_categorical_accuracy: 0.9969 - val_loss: 0.0187 - val_sparse_categorical_accuracy: 0.9942\n",
            "Saving checkpoint\n",
            "313/313 [==============================] - 1s 2ms/step - loss: 0.0843 - sparse_categorical_accuracy: 0.9785\n",
            "1372/1372 [==============================] - 5s 3ms/step - loss: 0.0094 - sparse_categorical_accuracy: 0.9973 - val_loss: 0.0266 - val_sparse_categorical_accuracy: 0.9927\n",
            "313/313 [==============================] - 1s 2ms/step - loss: 0.0956 - sparse_categorical_accuracy: 0.9765\n",
            "1372/1372 [==============================] - 5s 4ms/step - loss: 0.0086 - sparse_categorical_accuracy: 0.9974 - val_loss: 0.0178 - val_sparse_categorical_accuracy: 0.9945\n",
            "Saving checkpoint\n",
            "313/313 [==============================] - 1s 2ms/step - loss: 0.0905 - sparse_categorical_accuracy: 0.9797\n",
            "1372/1372 [==============================] - 5s 3ms/step - loss: 0.0063 - sparse_categorical_accuracy: 0.9979 - val_loss: 0.0253 - val_sparse_categorical_accuracy: 0.9934\n",
            "313/313 [==============================] - 1s 2ms/step - loss: 0.1346 - sparse_categorical_accuracy: 0.9734\n",
            "1372/1372 [==============================] - 5s 3ms/step - loss: 0.0060 - sparse_categorical_accuracy: 0.9981 - val_loss: 0.0198 - val_sparse_categorical_accuracy: 0.9942\n",
            "313/313 [==============================] - 1s 2ms/step - loss: 0.1168 - sparse_categorical_accuracy: 0.9755\n",
            "1372/1372 [==============================] - 5s 4ms/step - loss: 0.0041 - sparse_categorical_accuracy: 0.9988 - val_loss: 0.0231 - val_sparse_categorical_accuracy: 0.9935\n",
            "313/313 [==============================] - 1s 2ms/step - loss: 0.1288 - sparse_categorical_accuracy: 0.9734\n",
            "1372/1372 [==============================] - 5s 4ms/step - loss: 0.0037 - sparse_categorical_accuracy: 0.9988 - val_loss: 0.0348 - val_sparse_categorical_accuracy: 0.9919\n",
            "313/313 [==============================] - 1s 2ms/step - loss: 0.0905 - sparse_categorical_accuracy: 0.9797\n",
            "58112\n",
            "313/313 [==============================] - 1s 2ms/step - loss: 2.3027 - sparse_categorical_accuracy: 0.1114\n",
            "1453/1453 [==============================] - 5s 4ms/step - loss: 0.0944 - sparse_categorical_accuracy: 0.9684 - val_loss: 0.0275 - val_sparse_categorical_accuracy: 0.9923\n",
            "Saving checkpoint\n",
            "313/313 [==============================] - 1s 2ms/step - loss: 0.0794 - sparse_categorical_accuracy: 0.9782\n",
            "1453/1453 [==============================] - 5s 3ms/step - loss: 0.0210 - sparse_categorical_accuracy: 0.9929 - val_loss: 0.0293 - val_sparse_categorical_accuracy: 0.9917\n",
            "313/313 [==============================] - 1s 2ms/step - loss: 0.0900 - sparse_categorical_accuracy: 0.9785\n",
            "1453/1453 [==============================] - 5s 3ms/step - loss: 0.0163 - sparse_categorical_accuracy: 0.9944 - val_loss: 0.0321 - val_sparse_categorical_accuracy: 0.9897\n",
            "313/313 [==============================] - 1s 2ms/step - loss: 0.1054 - sparse_categorical_accuracy: 0.9733\n",
            "1453/1453 [==============================] - 5s 3ms/step - loss: 0.0120 - sparse_categorical_accuracy: 0.9960 - val_loss: 0.0199 - val_sparse_categorical_accuracy: 0.9934\n",
            "Saving checkpoint\n",
            "313/313 [==============================] - 1s 2ms/step - loss: 0.0898 - sparse_categorical_accuracy: 0.9800\n",
            "1453/1453 [==============================] - 5s 3ms/step - loss: 0.0113 - sparse_categorical_accuracy: 0.9961 - val_loss: 0.0281 - val_sparse_categorical_accuracy: 0.9913\n",
            "313/313 [==============================] - 1s 2ms/step - loss: 0.0952 - sparse_categorical_accuracy: 0.9774\n",
            "1453/1453 [==============================] - 5s 4ms/step - loss: 0.0096 - sparse_categorical_accuracy: 0.9969 - val_loss: 0.0356 - val_sparse_categorical_accuracy: 0.9898\n",
            "313/313 [==============================] - 1s 2ms/step - loss: 0.1067 - sparse_categorical_accuracy: 0.9782\n",
            "1453/1453 [==============================] - 5s 3ms/step - loss: 0.0075 - sparse_categorical_accuracy: 0.9974 - val_loss: 0.0215 - val_sparse_categorical_accuracy: 0.9945\n",
            "313/313 [==============================] - 1s 2ms/step - loss: 0.0977 - sparse_categorical_accuracy: 0.9811\n",
            "1453/1453 [==============================] - 5s 4ms/step - loss: 0.0073 - sparse_categorical_accuracy: 0.9975 - val_loss: 0.0251 - val_sparse_categorical_accuracy: 0.9936\n",
            "313/313 [==============================] - 1s 2ms/step - loss: 0.1041 - sparse_categorical_accuracy: 0.9800\n",
            "1453/1453 [==============================] - 5s 4ms/step - loss: 0.0064 - sparse_categorical_accuracy: 0.9979 - val_loss: 0.0276 - val_sparse_categorical_accuracy: 0.9930\n",
            "313/313 [==============================] - 1s 2ms/step - loss: 0.1136 - sparse_categorical_accuracy: 0.9812\n",
            "1453/1453 [==============================] - 5s 3ms/step - loss: 0.0066 - sparse_categorical_accuracy: 0.9979 - val_loss: 0.0293 - val_sparse_categorical_accuracy: 0.9928\n",
            "313/313 [==============================] - 1s 2ms/step - loss: 0.0898 - sparse_categorical_accuracy: 0.9800\n",
            "58805\n",
            "313/313 [==============================] - 1s 2ms/step - loss: 2.3027 - sparse_categorical_accuracy: 0.1114\n",
            "1471/1471 [==============================] - 5s 3ms/step - loss: 0.1137 - sparse_categorical_accuracy: 0.9619 - val_loss: 0.0358 - val_sparse_categorical_accuracy: 0.9872\n",
            "Saving checkpoint\n",
            "313/313 [==============================] - 1s 2ms/step - loss: 0.0889 - sparse_categorical_accuracy: 0.9753\n",
            "1471/1471 [==============================] - 5s 4ms/step - loss: 0.0257 - sparse_categorical_accuracy: 0.9916 - val_loss: 0.0340 - val_sparse_categorical_accuracy: 0.9894\n",
            "Saving checkpoint\n",
            "313/313 [==============================] - 1s 2ms/step - loss: 0.0941 - sparse_categorical_accuracy: 0.9773\n",
            "1471/1471 [==============================] - 5s 4ms/step - loss: 0.0191 - sparse_categorical_accuracy: 0.9938 - val_loss: 0.0257 - val_sparse_categorical_accuracy: 0.9911\n",
            "Saving checkpoint\n",
            "313/313 [==============================] - 1s 2ms/step - loss: 0.0813 - sparse_categorical_accuracy: 0.9800\n",
            "1471/1471 [==============================] - 5s 4ms/step - loss: 0.0157 - sparse_categorical_accuracy: 0.9946 - val_loss: 0.0254 - val_sparse_categorical_accuracy: 0.9923\n",
            "Saving checkpoint\n",
            "313/313 [==============================] - 1s 2ms/step - loss: 0.0797 - sparse_categorical_accuracy: 0.9791\n",
            "1471/1471 [==============================] - 5s 3ms/step - loss: 0.0135 - sparse_categorical_accuracy: 0.9954 - val_loss: 0.0230 - val_sparse_categorical_accuracy: 0.9934\n",
            "Saving checkpoint\n",
            "313/313 [==============================] - 1s 2ms/step - loss: 0.0903 - sparse_categorical_accuracy: 0.9809\n",
            "1471/1471 [==============================] - 5s 3ms/step - loss: 0.0116 - sparse_categorical_accuracy: 0.9959 - val_loss: 0.0232 - val_sparse_categorical_accuracy: 0.9925\n",
            "313/313 [==============================] - 1s 2ms/step - loss: 0.0876 - sparse_categorical_accuracy: 0.9813\n",
            "1471/1471 [==============================] - 5s 4ms/step - loss: 0.0103 - sparse_categorical_accuracy: 0.9965 - val_loss: 0.0209 - val_sparse_categorical_accuracy: 0.9934\n",
            "Saving checkpoint\n",
            "313/313 [==============================] - 1s 2ms/step - loss: 0.0775 - sparse_categorical_accuracy: 0.9813\n",
            "1471/1471 [==============================] - 5s 3ms/step - loss: 0.0088 - sparse_categorical_accuracy: 0.9969 - val_loss: 0.0271 - val_sparse_categorical_accuracy: 0.9917\n",
            "313/313 [==============================] - 1s 2ms/step - loss: 0.1100 - sparse_categorical_accuracy: 0.9780\n",
            "1471/1471 [==============================] - 5s 4ms/step - loss: 0.0079 - sparse_categorical_accuracy: 0.9973 - val_loss: 0.0322 - val_sparse_categorical_accuracy: 0.9923\n",
            "313/313 [==============================] - 1s 2ms/step - loss: 0.1012 - sparse_categorical_accuracy: 0.9809\n",
            "1471/1471 [==============================] - 5s 3ms/step - loss: 0.0070 - sparse_categorical_accuracy: 0.9977 - val_loss: 0.0289 - val_sparse_categorical_accuracy: 0.9913\n",
            "313/313 [==============================] - 1s 2ms/step - loss: 0.0775 - sparse_categorical_accuracy: 0.9813\n",
            "59220\n",
            "313/313 [==============================] - 1s 2ms/step - loss: 2.3027 - sparse_categorical_accuracy: 0.1114\n",
            "1481/1481 [==============================] - 5s 3ms/step - loss: 0.1150 - sparse_categorical_accuracy: 0.9609 - val_loss: 0.0342 - val_sparse_categorical_accuracy: 0.9895\n",
            "Saving checkpoint\n",
            "313/313 [==============================] - 1s 2ms/step - loss: 0.0880 - sparse_categorical_accuracy: 0.9757\n",
            "1481/1481 [==============================] - 5s 3ms/step - loss: 0.0299 - sparse_categorical_accuracy: 0.9897 - val_loss: 0.0321 - val_sparse_categorical_accuracy: 0.9883\n",
            "Saving checkpoint\n",
            "313/313 [==============================] - 1s 2ms/step - loss: 0.0705 - sparse_categorical_accuracy: 0.9804\n",
            "1481/1481 [==============================] - 5s 3ms/step - loss: 0.0207 - sparse_categorical_accuracy: 0.9929 - val_loss: 0.0351 - val_sparse_categorical_accuracy: 0.9882\n",
            "313/313 [==============================] - 1s 2ms/step - loss: 0.0802 - sparse_categorical_accuracy: 0.9788\n",
            "1481/1481 [==============================] - 5s 4ms/step - loss: 0.0184 - sparse_categorical_accuracy: 0.9937 - val_loss: 0.0349 - val_sparse_categorical_accuracy: 0.9888\n",
            "313/313 [==============================] - 1s 2ms/step - loss: 0.0807 - sparse_categorical_accuracy: 0.9793\n",
            "1481/1481 [==============================] - 5s 4ms/step - loss: 0.0145 - sparse_categorical_accuracy: 0.9947 - val_loss: 0.0324 - val_sparse_categorical_accuracy: 0.9891\n",
            "313/313 [==============================] - 1s 2ms/step - loss: 0.0863 - sparse_categorical_accuracy: 0.9792\n",
            "1481/1481 [==============================] - 5s 4ms/step - loss: 0.0129 - sparse_categorical_accuracy: 0.9952 - val_loss: 0.0321 - val_sparse_categorical_accuracy: 0.9898\n",
            "313/313 [==============================] - 1s 2ms/step - loss: 0.0897 - sparse_categorical_accuracy: 0.9784\n",
            "1481/1481 [==============================] - 5s 3ms/step - loss: 0.0103 - sparse_categorical_accuracy: 0.9965 - val_loss: 0.0330 - val_sparse_categorical_accuracy: 0.9892\n",
            "313/313 [==============================] - 1s 2ms/step - loss: 0.0867 - sparse_categorical_accuracy: 0.9805\n",
            "1481/1481 [==============================] - 5s 4ms/step - loss: 0.0100 - sparse_categorical_accuracy: 0.9967 - val_loss: 0.0332 - val_sparse_categorical_accuracy: 0.9903\n",
            "313/313 [==============================] - 1s 2ms/step - loss: 0.0935 - sparse_categorical_accuracy: 0.9815\n",
            "1481/1481 [==============================] - 5s 4ms/step - loss: 0.0086 - sparse_categorical_accuracy: 0.9969 - val_loss: 0.0546 - val_sparse_categorical_accuracy: 0.9860\n",
            "313/313 [==============================] - 1s 2ms/step - loss: 0.1218 - sparse_categorical_accuracy: 0.9779\n",
            "1481/1481 [==============================] - 5s 4ms/step - loss: 0.0076 - sparse_categorical_accuracy: 0.9975 - val_loss: 0.0429 - val_sparse_categorical_accuracy: 0.9883\n",
            "313/313 [==============================] - 1s 2ms/step - loss: 0.0705 - sparse_categorical_accuracy: 0.9804\n",
            "59349\n",
            "313/313 [==============================] - 1s 2ms/step - loss: 2.3027 - sparse_categorical_accuracy: 0.1114\n",
            "1484/1484 [==============================] - 5s 4ms/step - loss: 0.1272 - sparse_categorical_accuracy: 0.9578 - val_loss: 0.0352 - val_sparse_categorical_accuracy: 0.9882\n",
            "Saving checkpoint\n",
            "313/313 [==============================] - 1s 2ms/step - loss: 0.0802 - sparse_categorical_accuracy: 0.9755\n",
            "1484/1484 [==============================] - 5s 3ms/step - loss: 0.0327 - sparse_categorical_accuracy: 0.9886 - val_loss: 0.0268 - val_sparse_categorical_accuracy: 0.9914\n",
            "Saving checkpoint\n",
            "313/313 [==============================] - 1s 2ms/step - loss: 0.0701 - sparse_categorical_accuracy: 0.9794\n",
            "1484/1484 [==============================] - 5s 3ms/step - loss: 0.0246 - sparse_categorical_accuracy: 0.9915 - val_loss: 0.0232 - val_sparse_categorical_accuracy: 0.9922\n",
            "Saving checkpoint\n",
            "313/313 [==============================] - 1s 2ms/step - loss: 0.0743 - sparse_categorical_accuracy: 0.9806\n",
            "1484/1484 [==============================] - 5s 4ms/step - loss: 0.0199 - sparse_categorical_accuracy: 0.9932 - val_loss: 0.0239 - val_sparse_categorical_accuracy: 0.9922\n",
            "313/313 [==============================] - 1s 2ms/step - loss: 0.0804 - sparse_categorical_accuracy: 0.9799\n",
            "1484/1484 [==============================] - 5s 3ms/step - loss: 0.0169 - sparse_categorical_accuracy: 0.9938 - val_loss: 0.0326 - val_sparse_categorical_accuracy: 0.9892\n",
            "313/313 [==============================] - 1s 2ms/step - loss: 0.0856 - sparse_categorical_accuracy: 0.9794\n",
            "1484/1484 [==============================] - 5s 3ms/step - loss: 0.0133 - sparse_categorical_accuracy: 0.9953 - val_loss: 0.0259 - val_sparse_categorical_accuracy: 0.9922\n",
            "313/313 [==============================] - 1s 2ms/step - loss: 0.0839 - sparse_categorical_accuracy: 0.9805\n",
            "1484/1484 [==============================] - 5s 3ms/step - loss: 0.0135 - sparse_categorical_accuracy: 0.9954 - val_loss: 0.0235 - val_sparse_categorical_accuracy: 0.9918\n",
            "313/313 [==============================] - 1s 2ms/step - loss: 0.0964 - sparse_categorical_accuracy: 0.9804\n",
            "1484/1484 [==============================] - 5s 4ms/step - loss: 0.0106 - sparse_categorical_accuracy: 0.9960 - val_loss: 0.0236 - val_sparse_categorical_accuracy: 0.9925\n",
            "313/313 [==============================] - 1s 2ms/step - loss: 0.0879 - sparse_categorical_accuracy: 0.9812\n",
            "1484/1484 [==============================] - 5s 3ms/step - loss: 0.0102 - sparse_categorical_accuracy: 0.9963 - val_loss: 0.0251 - val_sparse_categorical_accuracy: 0.9922\n",
            "313/313 [==============================] - 1s 2ms/step - loss: 0.0927 - sparse_categorical_accuracy: 0.9809\n",
            "1484/1484 [==============================] - 5s 3ms/step - loss: 0.0085 - sparse_categorical_accuracy: 0.9974 - val_loss: 0.0229 - val_sparse_categorical_accuracy: 0.9938\n",
            "Saving checkpoint\n",
            "313/313 [==============================] - 1s 2ms/step - loss: 0.0952 - sparse_categorical_accuracy: 0.9811\n",
            "59633\n",
            "313/313 [==============================] - 1s 2ms/step - loss: 2.3027 - sparse_categorical_accuracy: 0.1114\n",
            "1491/1491 [==============================] - 5s 4ms/step - loss: 0.1229 - sparse_categorical_accuracy: 0.9587 - val_loss: 0.0447 - val_sparse_categorical_accuracy: 0.9842\n",
            "Saving checkpoint\n",
            "313/313 [==============================] - 1s 2ms/step - loss: 0.0865 - sparse_categorical_accuracy: 0.9726\n",
            "1491/1491 [==============================] - 5s 4ms/step - loss: 0.0345 - sparse_categorical_accuracy: 0.9880 - val_loss: 0.0316 - val_sparse_categorical_accuracy: 0.9883\n",
            "Saving checkpoint\n",
            "313/313 [==============================] - 1s 2ms/step - loss: 0.0744 - sparse_categorical_accuracy: 0.9790\n",
            "1491/1491 [==============================] - 5s 3ms/step - loss: 0.0262 - sparse_categorical_accuracy: 0.9905 - val_loss: 0.0284 - val_sparse_categorical_accuracy: 0.9904\n",
            "Saving checkpoint\n",
            "313/313 [==============================] - 1s 2ms/step - loss: 0.0840 - sparse_categorical_accuracy: 0.9788\n",
            "1491/1491 [==============================] - 5s 4ms/step - loss: 0.0200 - sparse_categorical_accuracy: 0.9931 - val_loss: 0.0253 - val_sparse_categorical_accuracy: 0.9907\n",
            "Saving checkpoint\n",
            "313/313 [==============================] - 1s 2ms/step - loss: 0.0803 - sparse_categorical_accuracy: 0.9800\n",
            "1491/1491 [==============================] - 5s 3ms/step - loss: 0.0174 - sparse_categorical_accuracy: 0.9934 - val_loss: 0.0243 - val_sparse_categorical_accuracy: 0.9904\n",
            "Saving checkpoint\n",
            "313/313 [==============================] - 1s 2ms/step - loss: 0.0769 - sparse_categorical_accuracy: 0.9812\n",
            "1491/1491 [==============================] - 5s 4ms/step - loss: 0.0149 - sparse_categorical_accuracy: 0.9949 - val_loss: 0.0317 - val_sparse_categorical_accuracy: 0.9894\n",
            "313/313 [==============================] - 1s 2ms/step - loss: 0.0785 - sparse_categorical_accuracy: 0.9815\n",
            "1491/1491 [==============================] - 5s 3ms/step - loss: 0.0118 - sparse_categorical_accuracy: 0.9961 - val_loss: 0.0308 - val_sparse_categorical_accuracy: 0.9903\n",
            "313/313 [==============================] - 1s 2ms/step - loss: 0.0897 - sparse_categorical_accuracy: 0.9814\n",
            "1491/1491 [==============================] - 5s 3ms/step - loss: 0.0103 - sparse_categorical_accuracy: 0.9964 - val_loss: 0.0288 - val_sparse_categorical_accuracy: 0.9917\n",
            "313/313 [==============================] - 1s 2ms/step - loss: 0.0986 - sparse_categorical_accuracy: 0.9807\n",
            "1491/1491 [==============================] - 5s 3ms/step - loss: 0.0099 - sparse_categorical_accuracy: 0.9965 - val_loss: 0.0421 - val_sparse_categorical_accuracy: 0.9899\n",
            "313/313 [==============================] - 1s 2ms/step - loss: 0.0988 - sparse_categorical_accuracy: 0.9809\n",
            "1491/1491 [==============================] - 5s 4ms/step - loss: 0.0104 - sparse_categorical_accuracy: 0.9961 - val_loss: 0.0374 - val_sparse_categorical_accuracy: 0.9891\n",
            "313/313 [==============================] - 1s 2ms/step - loss: 0.0769 - sparse_categorical_accuracy: 0.9812\n",
            "59694\n",
            "313/313 [==============================] - 1s 2ms/step - loss: 2.3027 - sparse_categorical_accuracy: 0.1114\n",
            "1493/1493 [==============================] - 5s 4ms/step - loss: 0.1242 - sparse_categorical_accuracy: 0.9585 - val_loss: 0.0373 - val_sparse_categorical_accuracy: 0.9868\n",
            "Saving checkpoint\n",
            "313/313 [==============================] - 1s 2ms/step - loss: 0.0789 - sparse_categorical_accuracy: 0.9768\n",
            "1493/1493 [==============================] - 5s 4ms/step - loss: 0.0336 - sparse_categorical_accuracy: 0.9880 - val_loss: 0.0356 - val_sparse_categorical_accuracy: 0.9863\n",
            "Saving checkpoint\n",
            "313/313 [==============================] - 1s 2ms/step - loss: 0.0853 - sparse_categorical_accuracy: 0.9768\n",
            "1493/1493 [==============================] - 5s 4ms/step - loss: 0.0258 - sparse_categorical_accuracy: 0.9911 - val_loss: 0.0343 - val_sparse_categorical_accuracy: 0.9879\n",
            "Saving checkpoint\n",
            "313/313 [==============================] - 1s 2ms/step - loss: 0.0816 - sparse_categorical_accuracy: 0.9787\n",
            "1493/1493 [==============================] - 5s 4ms/step - loss: 0.0209 - sparse_categorical_accuracy: 0.9927 - val_loss: 0.0307 - val_sparse_categorical_accuracy: 0.9887\n",
            "Saving checkpoint\n",
            "313/313 [==============================] - 1s 2ms/step - loss: 0.0767 - sparse_categorical_accuracy: 0.9818\n",
            "1493/1493 [==============================] - 5s 3ms/step - loss: 0.0178 - sparse_categorical_accuracy: 0.9938 - val_loss: 0.0445 - val_sparse_categorical_accuracy: 0.9859\n",
            "313/313 [==============================] - 1s 2ms/step - loss: 0.0902 - sparse_categorical_accuracy: 0.9789\n",
            "1493/1493 [==============================] - 5s 4ms/step - loss: 0.0148 - sparse_categorical_accuracy: 0.9948 - val_loss: 0.0358 - val_sparse_categorical_accuracy: 0.9878\n",
            "313/313 [==============================] - 1s 2ms/step - loss: 0.0979 - sparse_categorical_accuracy: 0.9792\n",
            "1493/1493 [==============================] - 5s 4ms/step - loss: 0.0133 - sparse_categorical_accuracy: 0.9951 - val_loss: 0.0271 - val_sparse_categorical_accuracy: 0.9905\n",
            "Saving checkpoint\n",
            "313/313 [==============================] - 1s 2ms/step - loss: 0.0894 - sparse_categorical_accuracy: 0.9808\n",
            "1493/1493 [==============================] - 5s 4ms/step - loss: 0.0110 - sparse_categorical_accuracy: 0.9961 - val_loss: 0.0299 - val_sparse_categorical_accuracy: 0.9908\n",
            "313/313 [==============================] - 1s 2ms/step - loss: 0.0926 - sparse_categorical_accuracy: 0.9825\n",
            "1493/1493 [==============================] - 5s 4ms/step - loss: 0.0112 - sparse_categorical_accuracy: 0.9961 - val_loss: 0.0302 - val_sparse_categorical_accuracy: 0.9907\n",
            "313/313 [==============================] - 1s 2ms/step - loss: 0.0942 - sparse_categorical_accuracy: 0.9821\n",
            "1493/1493 [==============================] - 5s 4ms/step - loss: 0.0091 - sparse_categorical_accuracy: 0.9966 - val_loss: 0.0318 - val_sparse_categorical_accuracy: 0.9895\n",
            "313/313 [==============================] - 1s 2ms/step - loss: 0.0894 - sparse_categorical_accuracy: 0.9808\n",
            "59775\n",
            "313/313 [==============================] - 1s 2ms/step - loss: 2.3027 - sparse_categorical_accuracy: 0.1114\n",
            "1495/1495 [==============================] - 5s 4ms/step - loss: 0.1232 - sparse_categorical_accuracy: 0.9591 - val_loss: 0.0665 - val_sparse_categorical_accuracy: 0.9779\n",
            "Saving checkpoint\n",
            "313/313 [==============================] - 1s 2ms/step - loss: 0.0996 - sparse_categorical_accuracy: 0.9698\n",
            "1495/1495 [==============================] - 5s 4ms/step - loss: 0.0367 - sparse_categorical_accuracy: 0.9871 - val_loss: 0.0310 - val_sparse_categorical_accuracy: 0.9889\n",
            "Saving checkpoint\n",
            "313/313 [==============================] - 1s 2ms/step - loss: 0.0745 - sparse_categorical_accuracy: 0.9790\n",
            "1495/1495 [==============================] - 5s 3ms/step - loss: 0.0288 - sparse_categorical_accuracy: 0.9896 - val_loss: 0.0299 - val_sparse_categorical_accuracy: 0.9879\n",
            "Saving checkpoint\n",
            "313/313 [==============================] - 1s 2ms/step - loss: 0.0824 - sparse_categorical_accuracy: 0.9798\n",
            "1495/1495 [==============================] - 5s 4ms/step - loss: 0.0225 - sparse_categorical_accuracy: 0.9916 - val_loss: 0.0244 - val_sparse_categorical_accuracy: 0.9906\n",
            "Saving checkpoint\n",
            "313/313 [==============================] - 1s 2ms/step - loss: 0.0755 - sparse_categorical_accuracy: 0.9812\n",
            "1495/1495 [==============================] - 5s 3ms/step - loss: 0.0192 - sparse_categorical_accuracy: 0.9931 - val_loss: 0.0316 - val_sparse_categorical_accuracy: 0.9884\n",
            "313/313 [==============================] - 1s 2ms/step - loss: 0.0858 - sparse_categorical_accuracy: 0.9800\n",
            "1495/1495 [==============================] - 5s 4ms/step - loss: 0.0158 - sparse_categorical_accuracy: 0.9945 - val_loss: 0.0289 - val_sparse_categorical_accuracy: 0.9898\n",
            "313/313 [==============================] - 1s 2ms/step - loss: 0.0896 - sparse_categorical_accuracy: 0.9795\n",
            "1495/1495 [==============================] - 5s 3ms/step - loss: 0.0143 - sparse_categorical_accuracy: 0.9947 - val_loss: 0.0456 - val_sparse_categorical_accuracy: 0.9859\n",
            "313/313 [==============================] - 1s 2ms/step - loss: 0.1042 - sparse_categorical_accuracy: 0.9769\n",
            "1495/1495 [==============================] - 5s 4ms/step - loss: 0.0125 - sparse_categorical_accuracy: 0.9955 - val_loss: 0.0262 - val_sparse_categorical_accuracy: 0.9907\n",
            "313/313 [==============================] - 1s 2ms/step - loss: 0.0945 - sparse_categorical_accuracy: 0.9813\n",
            "1495/1495 [==============================] - 5s 3ms/step - loss: 0.0121 - sparse_categorical_accuracy: 0.9958 - val_loss: 0.0303 - val_sparse_categorical_accuracy: 0.9890\n",
            "313/313 [==============================] - 1s 2ms/step - loss: 0.0928 - sparse_categorical_accuracy: 0.9801\n",
            "1495/1495 [==============================] - 5s 3ms/step - loss: 0.0094 - sparse_categorical_accuracy: 0.9967 - val_loss: 0.0300 - val_sparse_categorical_accuracy: 0.9905\n",
            "313/313 [==============================] - 1s 2ms/step - loss: 0.0755 - sparse_categorical_accuracy: 0.9812\n",
            "59800\n",
            "313/313 [==============================] - 1s 2ms/step - loss: 2.3027 - sparse_categorical_accuracy: 0.1114\n",
            "1495/1495 [==============================] - 5s 3ms/step - loss: 0.1271 - sparse_categorical_accuracy: 0.9580 - val_loss: 0.0525 - val_sparse_categorical_accuracy: 0.9816\n",
            "Saving checkpoint\n",
            "313/313 [==============================] - 1s 2ms/step - loss: 0.0882 - sparse_categorical_accuracy: 0.9742\n",
            "1495/1495 [==============================] - 5s 4ms/step - loss: 0.0364 - sparse_categorical_accuracy: 0.9868 - val_loss: 0.0374 - val_sparse_categorical_accuracy: 0.9875\n",
            "Saving checkpoint\n",
            "313/313 [==============================] - 1s 2ms/step - loss: 0.0818 - sparse_categorical_accuracy: 0.9787\n",
            "1495/1495 [==============================] - 5s 3ms/step - loss: 0.0274 - sparse_categorical_accuracy: 0.9900 - val_loss: 0.0349 - val_sparse_categorical_accuracy: 0.9873\n",
            "Saving checkpoint\n",
            "313/313 [==============================] - 1s 2ms/step - loss: 0.0795 - sparse_categorical_accuracy: 0.9810\n",
            "1495/1495 [==============================] - 5s 3ms/step - loss: 0.0218 - sparse_categorical_accuracy: 0.9926 - val_loss: 0.0346 - val_sparse_categorical_accuracy: 0.9872\n",
            "Saving checkpoint\n",
            "313/313 [==============================] - 1s 2ms/step - loss: 0.0830 - sparse_categorical_accuracy: 0.9792\n",
            "1495/1495 [==============================] - 5s 4ms/step - loss: 0.0181 - sparse_categorical_accuracy: 0.9932 - val_loss: 0.0400 - val_sparse_categorical_accuracy: 0.9868\n",
            "313/313 [==============================] - 1s 2ms/step - loss: 0.1031 - sparse_categorical_accuracy: 0.9785\n",
            "1495/1495 [==============================] - 5s 4ms/step - loss: 0.0179 - sparse_categorical_accuracy: 0.9930 - val_loss: 0.0347 - val_sparse_categorical_accuracy: 0.9894\n",
            "313/313 [==============================] - 1s 2ms/step - loss: 0.0785 - sparse_categorical_accuracy: 0.9813\n",
            "1495/1495 [==============================] - 5s 4ms/step - loss: 0.0134 - sparse_categorical_accuracy: 0.9949 - val_loss: 0.0431 - val_sparse_categorical_accuracy: 0.9872\n",
            "313/313 [==============================] - 1s 2ms/step - loss: 0.1059 - sparse_categorical_accuracy: 0.9798\n",
            "1495/1495 [==============================] - 5s 4ms/step - loss: 0.0130 - sparse_categorical_accuracy: 0.9956 - val_loss: 0.0344 - val_sparse_categorical_accuracy: 0.9903\n",
            "Saving checkpoint\n",
            "313/313 [==============================] - 1s 2ms/step - loss: 0.0990 - sparse_categorical_accuracy: 0.9804\n",
            "1495/1495 [==============================] - 5s 4ms/step - loss: 0.0112 - sparse_categorical_accuracy: 0.9960 - val_loss: 0.0309 - val_sparse_categorical_accuracy: 0.9901\n",
            "Saving checkpoint\n",
            "313/313 [==============================] - 1s 2ms/step - loss: 0.1069 - sparse_categorical_accuracy: 0.9803\n",
            "1495/1495 [==============================] - 5s 4ms/step - loss: 0.0088 - sparse_categorical_accuracy: 0.9971 - val_loss: 0.0486 - val_sparse_categorical_accuracy: 0.9868\n",
            "313/313 [==============================] - 1s 2ms/step - loss: 0.1069 - sparse_categorical_accuracy: 0.9803\n",
            "59862\n",
            "313/313 [==============================] - 1s 2ms/step - loss: 2.3027 - sparse_categorical_accuracy: 0.1114\n",
            "1497/1497 [==============================] - 5s 4ms/step - loss: 0.1279 - sparse_categorical_accuracy: 0.9571 - val_loss: 0.0506 - val_sparse_categorical_accuracy: 0.9813\n",
            "Saving checkpoint\n",
            "313/313 [==============================] - 1s 2ms/step - loss: 0.0796 - sparse_categorical_accuracy: 0.9760\n",
            "1497/1497 [==============================] - 5s 4ms/step - loss: 0.0378 - sparse_categorical_accuracy: 0.9863 - val_loss: 0.0348 - val_sparse_categorical_accuracy: 0.9877\n",
            "Saving checkpoint\n",
            "313/313 [==============================] - 1s 2ms/step - loss: 0.0721 - sparse_categorical_accuracy: 0.9786\n",
            "1497/1497 [==============================] - 5s 4ms/step - loss: 0.0282 - sparse_categorical_accuracy: 0.9896 - val_loss: 0.0395 - val_sparse_categorical_accuracy: 0.9867\n",
            "313/313 [==============================] - 1s 2ms/step - loss: 0.0761 - sparse_categorical_accuracy: 0.9797\n",
            "1497/1497 [==============================] - 5s 4ms/step - loss: 0.0227 - sparse_categorical_accuracy: 0.9914 - val_loss: 0.0396 - val_sparse_categorical_accuracy: 0.9861\n",
            "313/313 [==============================] - 1s 2ms/step - loss: 0.0769 - sparse_categorical_accuracy: 0.9792\n",
            "1497/1497 [==============================] - 5s 4ms/step - loss: 0.0193 - sparse_categorical_accuracy: 0.9931 - val_loss: 0.0371 - val_sparse_categorical_accuracy: 0.9880\n",
            "313/313 [==============================] - 1s 2ms/step - loss: 0.0827 - sparse_categorical_accuracy: 0.9802\n",
            "1497/1497 [==============================] - 5s 4ms/step - loss: 0.0164 - sparse_categorical_accuracy: 0.9939 - val_loss: 0.0409 - val_sparse_categorical_accuracy: 0.9870\n",
            "313/313 [==============================] - 1s 2ms/step - loss: 0.0809 - sparse_categorical_accuracy: 0.9803\n",
            "1497/1497 [==============================] - 5s 4ms/step - loss: 0.0147 - sparse_categorical_accuracy: 0.9944 - val_loss: 0.0382 - val_sparse_categorical_accuracy: 0.9881\n",
            "313/313 [==============================] - 1s 2ms/step - loss: 0.0891 - sparse_categorical_accuracy: 0.9806\n",
            "1497/1497 [==============================] - 5s 3ms/step - loss: 0.0120 - sparse_categorical_accuracy: 0.9957 - val_loss: 0.0429 - val_sparse_categorical_accuracy: 0.9856\n",
            "313/313 [==============================] - 1s 2ms/step - loss: 0.0919 - sparse_categorical_accuracy: 0.9806\n",
            "1497/1497 [==============================] - 5s 4ms/step - loss: 0.0112 - sparse_categorical_accuracy: 0.9957 - val_loss: 0.0410 - val_sparse_categorical_accuracy: 0.9884\n",
            "313/313 [==============================] - 1s 2ms/step - loss: 0.1010 - sparse_categorical_accuracy: 0.9804\n",
            "1497/1497 [==============================] - 5s 4ms/step - loss: 0.0109 - sparse_categorical_accuracy: 0.9961 - val_loss: 0.0402 - val_sparse_categorical_accuracy: 0.9888\n",
            "313/313 [==============================] - 1s 2ms/step - loss: 0.0721 - sparse_categorical_accuracy: 0.9786\n"
          ],
          "name": "stdout"
        }
      ]
    },
    {
      "cell_type": "code",
      "metadata": {
        "colab": {
          "base_uri": "https://localhost:8080/",
          "height": 661
        },
        "id": "ZveP9Ebn9lOr",
        "outputId": "395ba447-6cae-4fce-c433-eba37f8f530d"
      },
      "source": [
        "print(supervised_loss)\n",
        "print(semi_supervised_loss)\n",
        "\n",
        "print(supervised_accuracy)\n",
        "print(semi_supervised_accuracy)\n",
        "\n",
        "plt.plot([0, 10], [supervised_loss, supervised_loss], color='b', linestyle='--', linewidth=2)\n",
        "plt.plot(semi_supervised_loss)\n",
        "plt.title('Loss')\n",
        "plt.ylabel('loss')\n",
        "plt.xlabel('epoch')\n",
        "plt.legend([\"supervised\", \"semi-supervised\"], loc='upper left')\n",
        "plt.show()\n",
        "\n",
        "\n",
        "plt.plot([0, 10], [supervised_accuracy, supervised_accuracy], color='b', linestyle='--', linewidth=2)\n",
        "plt.plot(semi_supervised_accuracy)\n",
        "plt.title('Accuracy')\n",
        "plt.ylabel('accuracy')\n",
        "plt.xlabel('epoch')\n",
        "plt.legend([\"supervised\", \"semi-supervised\"], loc='upper left')\n",
        "plt.show()"
      ],
      "execution_count": 25,
      "outputs": [
        {
          "output_type": "stream",
          "text": [
            "0.08834222704172134\n",
            "[0.08803582936525345, 0.09048420190811157, 0.08983496576547623, 0.0775272399187088, 0.0705375149846077, 0.09518241882324219, 0.0768783763051033, 0.08942500501871109, 0.0755145326256752, 0.1069302037358284, 0.07206369936466217]\n",
            "0.9743000268936157\n",
            "[0.9740999937057495, 0.9797000288963318, 0.9800000190734863, 0.9812999963760376, 0.980400025844574, 0.9811000227928162, 0.9811999797821045, 0.9807999730110168, 0.9811999797821045, 0.9803000092506409, 0.978600025177002]\n"
          ],
          "name": "stdout"
        },
        {
          "output_type": "display_data",
          "data": {
            "image/png": "[encoded data removed]",
            "text/plain": [
              "<Figure size 432x288 with 1 Axes>"
            ]
          },
          "metadata": {
            "tags": [],
            "needs_background": "light"
          }
        },
        {
          "output_type": "display_data",
          "data": {
            "image/png": "[encoded data removed]",
            "text/plain": [
              "<Figure size 432x288 with 1 Axes>"
            ]
          },
          "metadata": {
            "tags": [],
            "needs_background": "light"
          }
        }
      ]
    }
  ]
}